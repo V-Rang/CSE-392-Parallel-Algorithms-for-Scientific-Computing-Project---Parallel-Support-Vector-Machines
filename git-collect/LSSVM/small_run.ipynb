{
 "cells": [
  {
   "cell_type": "code",
   "execution_count": 1,
   "id": "5746e2aa",
   "metadata": {},
   "outputs": [],
   "source": [
    "import numpy as np\n",
    "from sklearn.model_selection import train_test_split\n",
    "from sklearn.metrics import accuracy_score\n",
    "from sklearn.datasets import load_digits\n",
    "from sklearn.preprocessing import MinMaxScaler\n",
    "\n",
    "from lssvm import LSSVC, LSSVC_GPU\n",
    "from utils.encoding import dummie2multilabel"
   ]
  },
  {
   "cell_type": "code",
   "execution_count": null,
   "id": "346e6785",
   "metadata": {},
   "outputs": [],
   "source": []
  },
  {
   "cell_type": "code",
   "execution_count": 2,
   "id": "ff99e203",
   "metadata": {},
   "outputs": [
    {
     "name": "stdout",
     "output_type": "stream",
     "text": [
      "X_train.shape: (1600, 200)\n",
      "X_test.shape:  (400, 200)\n",
      "y_train.shape: (1600,)\n",
      "y_test.shape:  (400,)\n",
      "np.unique(y_train): [0 1]\n",
      "np.unique(y_test):  [0 1]\n"
     ]
    }
   ],
   "source": [
    "# Preprocessing\n",
    "\n",
    "# Import digits recognition dataset (from sklearn)\n",
    "X, y = load_digits(return_X_y=True)\n",
    "#X_train, X_test, y_train, y_test = train_test_split(X, y, test_size=0.4, random_state=2020)\n",
    "X_train = np.load('data_final_multi_feature/X_train_moon_2000_0.3.npy')\n",
    "X_test = np.load('data_final_multi_feature/X_test_moon_2000_0.3.npy')\n",
    "y_test= np.load('data_final_multi_feature/y_test_moon_2000_0.3.npy')\n",
    "y_train= np.load('data_final_multi_feature/y_train_moon_2000_0.3.npy')\n",
    "# Scaling features (from sklearn)\n",
    "scaler = MinMaxScaler()\n",
    "scaler.fit(X_train)\n",
    "X_tr_norm = scaler.transform(X_train)\n",
    "X_ts_norm = scaler.transform(X_test)\n",
    "\n",
    "# Get information about input and outputs\n",
    "print(f\"X_train.shape: {X_train.shape}\")\n",
    "print(f\"X_test.shape:  {X_test.shape}\")\n",
    "print(f\"y_train.shape: {y_train.shape}\")\n",
    "print(f\"y_test.shape:  {y_test.shape}\")\n",
    "print(f\"np.unique(y_train): {np.unique(y_train)}\")\n",
    "print(f\"np.unique(y_test):  {np.unique(y_test)}\")"
   ]
  },
  {
   "cell_type": "code",
   "execution_count": 5,
   "id": "2365be96",
   "metadata": {},
   "outputs": [
    {
     "name": "stdout",
     "output_type": "stream",
     "text": [
      "Polynomial kernel:\n",
      "(1600, 1600)\n",
      "i DOing gpu\n",
      "time gpu rsvd =  1.7001070980040822\n",
      "acc_test =  0.9875 \n",
      "\n"
     ]
    },
    {
     "data": {
      "text/plain": [
       "\"print('Linear kernel:')\\nlssvc = LSSVC(gamma=1, kernel='linear')\\nlssvc.fit(X_tr_norm, y_train)\\ny_pred = lssvc.predict(X_ts_norm)\\nacc = accuracy_score(dummie2multilabel(y_test), dummie2multilabel(y_pred))\\nprint('acc_test = ', acc, '\\n')\""
      ]
     },
     "execution_count": 5,
     "metadata": {},
     "output_type": "execute_result"
    }
   ],
   "source": [
    "# Use the classifier with different kernels\n",
    "\n",
    "\"\"\"print('Gaussian kernel:')\n",
    "lssvc = LSSVC(gamma=1, kernel='rbf', sigma=.5) # Class instantiation\n",
    "lssvc.fit(X_tr_norm, y_train) # Fitting the model\n",
    "y_pred = lssvc.predict(X_ts_norm) # Making predictions with the trained model\n",
    "acc = accuracy_score(dummie2multilabel(y_test), dummie2multilabel(y_pred)) # Calculate Accuracy\n",
    "print('acc_test = ', acc, '\\n')\"\"\"\n",
    "\n",
    "print('Polynomial kernel:')\n",
    "lssvc = LSSVC(gamma=1, kernel='poly', d=2)\n",
    "method=3\n",
    "lssvc.fit(X_tr_norm, y_train,method)\n",
    "y_pred = lssvc.predict(X_ts_norm)\n",
    "acc = accuracy_score(dummie2multilabel(y_test), dummie2multilabel(y_pred))\n",
    "print('acc_test = ', acc, '\\n')\n",
    "\n",
    "\"\"\"print('Linear kernel:')\n",
    "lssvc = LSSVC(gamma=1, kernel='linear')\n",
    "lssvc.fit(X_tr_norm, y_train)\n",
    "y_pred = lssvc.predict(X_ts_norm)\n",
    "acc = accuracy_score(dummie2multilabel(y_test), dummie2multilabel(y_pred))\n",
    "print('acc_test = ', acc, '\\n')\"\"\""
   ]
  },
  {
   "cell_type": "code",
   "execution_count": null,
   "id": "d48006ce",
   "metadata": {},
   "outputs": [],
   "source": []
  }
 ],
 "metadata": {
  "kernelspec": {
   "display_name": "Python 3 (ipykernel)",
   "language": "python",
   "name": "python3"
  },
  "language_info": {
   "codemirror_mode": {
    "name": "ipython",
    "version": 3
   },
   "file_extension": ".py",
   "mimetype": "text/x-python",
   "name": "python",
   "nbconvert_exporter": "python",
   "pygments_lexer": "ipython3",
   "version": "3.8.10"
  }
 },
 "nbformat": 4,
 "nbformat_minor": 5
}
