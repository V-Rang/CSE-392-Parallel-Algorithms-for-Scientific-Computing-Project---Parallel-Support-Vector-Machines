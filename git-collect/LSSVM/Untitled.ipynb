{
 "cells": [
  {
   "cell_type": "code",
   "execution_count": 1,
   "id": "cc93c86e",
   "metadata": {},
   "outputs": [
    {
     "name": "stdout",
     "output_type": "stream",
     "text": [
      "4.078285468000104\n",
      "0.847\n"
     ]
    }
   ],
   "source": [
    "from sklearn.preprocessing import MinMaxScaler\n",
    "from sklearn.datasets._samples_generator import make_moons\n",
    "from sklearn.model_selection import train_test_split\n",
    "import time\n",
    "n_samples = 10000\n",
    "n_features = 2\n",
    "noise = 0.3\n",
    "X, y = make_moons(n_samples=n_samples,noise=noise,random_state=2)\n",
    "X_train,X_test,y_train,y_test = train_test_split(X,y,test_size=0.2,random_state=0)\n",
    "scaler = MinMaxScaler()\n",
    "scaler.fit(X_train)\n",
    "X_tr_norm = scaler.fit_transform(X_train)\n",
    "X_te_norm = scaler.transform(X_test)\n",
    "from sklearn.svm import SVC\n",
    "clf = SVC(kernel='poly',degree=3)\n",
    "tic = time.perf_counter()\n",
    "clf.fit(X_tr_norm,y_train)\n",
    "toc = time.perf_counter()\n",
    "print(toc-tic)\n",
    "y_pred = clf.predict(X_te_norm)\n",
    "from sklearn.metrics import accuracy_score\n",
    "print(accuracy_score(y_true=y_test,y_pred=y_pred))"
   ]
  },
  {
   "cell_type": "code",
   "execution_count": null,
   "id": "d05f503f",
   "metadata": {},
   "outputs": [],
   "source": []
  }
 ],
 "metadata": {
  "kernelspec": {
   "display_name": "Python 3 (ipykernel)",
   "language": "python",
   "name": "python3"
  },
  "language_info": {
   "codemirror_mode": {
    "name": "ipython",
    "version": 3
   },
   "file_extension": ".py",
   "mimetype": "text/x-python",
   "name": "python",
   "nbconvert_exporter": "python",
   "pygments_lexer": "ipython3",
   "version": "3.8.10"
  }
 },
 "nbformat": 4,
 "nbformat_minor": 5
}
